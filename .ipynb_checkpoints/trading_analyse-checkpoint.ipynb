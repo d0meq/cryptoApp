{
 "cells": [
  {
   "cell_type": "code",
   "execution_count": 31,
   "id": "3d3c211d-25c5-4c44-8f01-c231e86b6660",
   "metadata": {},
   "outputs": [],
   "source": [
    "import datetime as dt\n",
    "import yfinance as yf\n",
    "import pandas as pd\n",
    "import os\n",
    "from pandas_datareader import data as pdr\n",
    "from openpyxl import Workbook"
   ]
  },
  {
   "cell_type": "code",
   "execution_count": 32,
   "id": "8684bd36-141c-4393-9106-1cdd54920ab4",
   "metadata": {},
   "outputs": [
    {
     "name": "stdin",
     "output_type": "stream",
     "text": [
      "Insert start date: 2024-01-01\n"
     ]
    }
   ],
   "source": [
    "end = dt.datetime.now()\n",
    "start = str(input(\"Insert start date:\"))\n",
    "yf.pdr_override()\n",
    "\n",
    "stockList = [\"BTC-USD\", \"ETH-USD\", \"LINK-USD\", \"USDT-USD\"]\n",
    "position = ['AA2', 'AA17', 'AA32', 'AA47']\n",
    "colors = ['#4299f5','#5d42f5','#ce42f5','#f5425d']"
   ]
  },
  {
   "cell_type": "code",
   "execution_count": 33,
   "id": "43a6c3a3-06ed-4ca9-a8c4-8cb06840df1e",
   "metadata": {},
   "outputs": [
    {
     "name": "stderr",
     "output_type": "stream",
     "text": [
      "[*********************100%%**********************]  4 of 4 completed\n"
     ]
    }
   ],
   "source": [
    "stock = pdr.get_data_yahoo(stockList, start, end)"
   ]
  },
  {
   "cell_type": "code",
   "execution_count": 34,
   "id": "76453456-7687-4d20-9afc-db86b2671700",
   "metadata": {},
   "outputs": [
    {
     "ename": "TypeError",
     "evalue": "Unsupported type <class 'tuple'> in write()",
     "output_type": "error",
     "traceback": [
      "\u001b[1;31m---------------------------------------------------------------------------\u001b[0m",
      "\u001b[1;31mTypeError\u001b[0m                                 Traceback (most recent call last)",
      "File \u001b[1;32m~\\AppData\\Local\\Programs\\Python\\Python310\\lib\\site-packages\\xlsxwriter\\worksheet.py:547\u001b[0m, in \u001b[0;36mWorksheet._write\u001b[1;34m(self, row, col, *args)\u001b[0m\n\u001b[0;32m    546\u001b[0m \u001b[38;5;28;01mtry\u001b[39;00m:\n\u001b[1;32m--> 547\u001b[0m     f \u001b[38;5;241m=\u001b[39m \u001b[38;5;28;43mfloat\u001b[39;49m\u001b[43m(\u001b[49m\u001b[43mtoken\u001b[49m\u001b[43m)\u001b[49m\n\u001b[0;32m    548\u001b[0m     \u001b[38;5;28;01mreturn\u001b[39;00m \u001b[38;5;28mself\u001b[39m\u001b[38;5;241m.\u001b[39m_write_number(row, col, f, \u001b[38;5;241m*\u001b[39margs[\u001b[38;5;241m1\u001b[39m:])\n",
      "\u001b[1;31mTypeError\u001b[0m: float() argument must be a string or a real number, not 'tuple'",
      "\nDuring handling of the above exception, another exception occurred:\n",
      "\u001b[1;31mTypeError\u001b[0m                                 Traceback (most recent call last)",
      "Cell \u001b[1;32mIn[34], line 25\u001b[0m\n\u001b[0;32m     18\u001b[0m cell_format \u001b[38;5;241m=\u001b[39m workbook\u001b[38;5;241m.\u001b[39madd_format({\n\u001b[0;32m     19\u001b[0m     \u001b[38;5;124m'\u001b[39m\u001b[38;5;124mfg_color\u001b[39m\u001b[38;5;124m'\u001b[39m:\u001b[38;5;124m'\u001b[39m\u001b[38;5;124m#D7E4BC\u001b[39m\u001b[38;5;124m'\u001b[39m,\n\u001b[0;32m     20\u001b[0m     \u001b[38;5;124m'\u001b[39m\u001b[38;5;124mnum_format\u001b[39m\u001b[38;5;124m'\u001b[39m:\u001b[38;5;124m'\u001b[39m\u001b[38;5;124mdd.mm.yyyy\u001b[39m\u001b[38;5;124m'\u001b[39m,\n\u001b[0;32m     21\u001b[0m     \u001b[38;5;124m'\u001b[39m\u001b[38;5;124mborder\u001b[39m\u001b[38;5;124m'\u001b[39m:\u001b[38;5;241m0\u001b[39m\n\u001b[0;32m     22\u001b[0m })\n\u001b[0;32m     24\u001b[0m \u001b[38;5;28;01mfor\u001b[39;00m col_num, value \u001b[38;5;129;01min\u001b[39;00m \u001b[38;5;28menumerate\u001b[39m(df\u001b[38;5;241m.\u001b[39mcolumns\u001b[38;5;241m.\u001b[39mvalues):\n\u001b[1;32m---> 25\u001b[0m     \u001b[43mworksheet\u001b[49m\u001b[38;5;241;43m.\u001b[39;49m\u001b[43mwrite\u001b[49m\u001b[43m(\u001b[49m\u001b[38;5;241;43m0\u001b[39;49m\u001b[43m,\u001b[49m\u001b[43m \u001b[49m\u001b[43mcol_num\u001b[49m\u001b[43m,\u001b[49m\u001b[43m \u001b[49m\u001b[43mvalue\u001b[49m\u001b[43m,\u001b[49m\u001b[43m \u001b[49m\u001b[43mheader_format\u001b[49m\u001b[43m)\u001b[49m\n\u001b[0;32m     27\u001b[0m \u001b[38;5;28;01mfor\u001b[39;00m row_num \u001b[38;5;129;01min\u001b[39;00m \u001b[38;5;28mrange\u001b[39m(\u001b[38;5;241m1\u001b[39m, \u001b[38;5;28mlen\u001b[39m(df) \u001b[38;5;241m+\u001b[39m \u001b[38;5;241m1\u001b[39m):\n\u001b[0;32m     28\u001b[0m     \u001b[38;5;28;01mfor\u001b[39;00m col_num, value \u001b[38;5;129;01min\u001b[39;00m \u001b[38;5;28menumerate\u001b[39m(df\u001b[38;5;241m.\u001b[39miloc[row_num \u001b[38;5;241m-\u001b[39m \u001b[38;5;241m1\u001b[39m]):\n",
      "File \u001b[1;32m~\\AppData\\Local\\Programs\\Python\\Python310\\lib\\site-packages\\xlsxwriter\\worksheet.py:107\u001b[0m, in \u001b[0;36mconvert_cell_args.<locals>.cell_wrapper\u001b[1;34m(self, *args, **kwargs)\u001b[0m\n\u001b[0;32m    104\u001b[0m     new_args \u001b[38;5;241m=\u001b[39m xl_cell_to_rowcol(first_arg)\n\u001b[0;32m    105\u001b[0m     args \u001b[38;5;241m=\u001b[39m new_args \u001b[38;5;241m+\u001b[39m args[\u001b[38;5;241m1\u001b[39m:]\n\u001b[1;32m--> 107\u001b[0m \u001b[38;5;28;01mreturn\u001b[39;00m method(\u001b[38;5;28mself\u001b[39m, \u001b[38;5;241m*\u001b[39margs, \u001b[38;5;241m*\u001b[39m\u001b[38;5;241m*\u001b[39mkwargs)\n",
      "File \u001b[1;32m~\\AppData\\Local\\Programs\\Python\\Python310\\lib\\site-packages\\xlsxwriter\\worksheet.py:478\u001b[0m, in \u001b[0;36mWorksheet.write\u001b[1;34m(self, row, col, *args)\u001b[0m\n\u001b[0;32m    461\u001b[0m \u001b[38;5;129m@convert_cell_args\u001b[39m\n\u001b[0;32m    462\u001b[0m \u001b[38;5;28;01mdef\u001b[39;00m \u001b[38;5;21mwrite\u001b[39m(\u001b[38;5;28mself\u001b[39m, row, col, \u001b[38;5;241m*\u001b[39margs):\n\u001b[0;32m    463\u001b[0m \u001b[38;5;250m    \u001b[39m\u001b[38;5;124;03m\"\"\"\u001b[39;00m\n\u001b[0;32m    464\u001b[0m \u001b[38;5;124;03m    Write data to a worksheet cell by calling the appropriate write_*()\u001b[39;00m\n\u001b[0;32m    465\u001b[0m \u001b[38;5;124;03m    method based on the type of data being passed.\u001b[39;00m\n\u001b[1;32m   (...)\u001b[0m\n\u001b[0;32m    476\u001b[0m \n\u001b[0;32m    477\u001b[0m \u001b[38;5;124;03m    \"\"\"\u001b[39;00m\n\u001b[1;32m--> 478\u001b[0m     \u001b[38;5;28;01mreturn\u001b[39;00m \u001b[38;5;28;43mself\u001b[39;49m\u001b[38;5;241;43m.\u001b[39;49m\u001b[43m_write\u001b[49m\u001b[43m(\u001b[49m\u001b[43mrow\u001b[49m\u001b[43m,\u001b[49m\u001b[43m \u001b[49m\u001b[43mcol\u001b[49m\u001b[43m,\u001b[49m\u001b[43m \u001b[49m\u001b[38;5;241;43m*\u001b[39;49m\u001b[43margs\u001b[49m\u001b[43m)\u001b[49m\n",
      "File \u001b[1;32m~\\AppData\\Local\\Programs\\Python\\Python310\\lib\\site-packages\\xlsxwriter\\worksheet.py:552\u001b[0m, in \u001b[0;36mWorksheet._write\u001b[1;34m(self, row, col, *args)\u001b[0m\n\u001b[0;32m    550\u001b[0m     \u001b[38;5;28;01mpass\u001b[39;00m\n\u001b[0;32m    551\u001b[0m \u001b[38;5;28;01mexcept\u001b[39;00m \u001b[38;5;167;01mTypeError\u001b[39;00m:\n\u001b[1;32m--> 552\u001b[0m     \u001b[38;5;28;01mraise\u001b[39;00m \u001b[38;5;167;01mTypeError\u001b[39;00m(\u001b[38;5;124m\"\u001b[39m\u001b[38;5;124mUnsupported type \u001b[39m\u001b[38;5;132;01m%s\u001b[39;00m\u001b[38;5;124m in write()\u001b[39m\u001b[38;5;124m\"\u001b[39m \u001b[38;5;241m%\u001b[39m \u001b[38;5;28mtype\u001b[39m(token))\n\u001b[0;32m    554\u001b[0m \u001b[38;5;66;03m# Finally try string.\u001b[39;00m\n\u001b[0;32m    555\u001b[0m \u001b[38;5;28;01mtry\u001b[39;00m:\n",
      "\u001b[1;31mTypeError\u001b[0m: Unsupported type <class 'tuple'> in write()"
     ]
    }
   ],
   "source": [
    "df = pd.DataFrame(stock)\n",
    "writer = pd.ExcelWriter('raports/crypto_raport.xlsx', engine='xlsxwriter')\n",
    "df.to_excel(writer, sheet_name = 'Sheet1')\n",
    "\n",
    "workbook = writer.book\n",
    "worksheet = writer.sheets['Sheet1']\n",
    "\n",
    "x = 0\n",
    "y = 1\n",
    "i = 0\n",
    "\n",
    "for i in range(len(stockList)):\n",
    "    \n",
    "    chart = workbook.add_chart({'type':'line'})\n",
    "    \n",
    "    chart.add_series({\n",
    "        'name':'Price',\n",
    "        'categories': ['Sheet1',3,x,len(df),x],\n",
    "        'values': ['Sheet1',1,y,len(df),y],\n",
    "        'line': {'color': colors[i]},\n",
    "    })\n",
    "    \n",
    "    chart.set_title({'name':stockList[i]})\n",
    "    chart.set_x_axis({'name':'Year'})\n",
    "    chart.set_y_axis({'name':'USD$'})\n",
    "    \n",
    "    worksheet.insert_chart(position[i], chart)\n",
    "    y = y+1\n",
    "    i = i+1\n",
    "    \n",
    "writer.close()\n",
    "os.startfile('raports\\crypto_raport.xlsx')"
   ]
  },
  {
   "cell_type": "code",
   "execution_count": null,
   "id": "e5de4b49-fb6a-4b2f-9e35-f47c27ee8bb5",
   "metadata": {},
   "outputs": [],
   "source": [
    "stock.columns"
   ]
  },
  {
   "cell_type": "code",
   "execution_count": null,
   "id": "d705322a-ea4a-4bbb-82fb-d19bd11492ab",
   "metadata": {},
   "outputs": [],
   "source": [
    "Close = stock.Close\n",
    "Close.head()"
   ]
  },
  {
   "cell_type": "code",
   "execution_count": null,
   "id": "1703f250-7efb-411b-bc2a-bc85bd995416",
   "metadata": {},
   "outputs": [],
   "source": [
    "Close.plot()"
   ]
  },
  {
   "cell_type": "code",
   "execution_count": null,
   "id": "02c6cfb1-c965-4fd9-bdc4-0bfc8cfafe7e",
   "metadata": {},
   "outputs": [],
   "source": [
    "Close[Close.index > end - dt.timedelta(100)].describe()"
   ]
  },
  {
   "cell_type": "code",
   "execution_count": null,
   "id": "5c018e80-8169-4a83-9519-b6458b56c7b0",
   "metadata": {},
   "outputs": [],
   "source": [
    "import plotly.offline as pyo\n",
    "pyo.init_notebook_mode(connected=True)\n",
    "\n",
    "pd.options.plotting.backend = 'plotly'"
   ]
  },
  {
   "cell_type": "code",
   "execution_count": null,
   "id": "44acb9f8-038e-487f-b0f7-85be9189ce58",
   "metadata": {},
   "outputs": [],
   "source": [
    "Close.plot()"
   ]
  },
  {
   "cell_type": "code",
   "execution_count": null,
   "id": "e5d179b2-f733-4365-bea0-e973f70dbba5",
   "metadata": {},
   "outputs": [],
   "source": []
  }
 ],
 "metadata": {
  "kernelspec": {
   "display_name": "Python 3 (ipykernel)",
   "language": "python",
   "name": "python3"
  },
  "language_info": {
   "codemirror_mode": {
    "name": "ipython",
    "version": 3
   },
   "file_extension": ".py",
   "mimetype": "text/x-python",
   "name": "python",
   "nbconvert_exporter": "python",
   "pygments_lexer": "ipython3",
   "version": "3.10.1"
  }
 },
 "nbformat": 4,
 "nbformat_minor": 5
}
