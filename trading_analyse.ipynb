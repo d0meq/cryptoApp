{
 "cells": [
  {
   "cell_type": "code",
   "execution_count": 31,
   "id": "3d3c211d-25c5-4c44-8f01-c231e86b6660",
   "metadata": {},
   "outputs": [],
   "source": [
    "import datetime as dt\n",
    "import yfinance as yf\n",
    "import pandas as pd\n",
    "import os\n",
    "from pandas_datareader import data as pdr\n",
    "from openpyxl import Workbook"
   ]
  },
  {
   "cell_type": "code",
   "execution_count": 32,
   "id": "8684bd36-141c-4393-9106-1cdd54920ab4",
   "metadata": {},
   "outputs": [
    {
     "name": "stdin",
     "output_type": "stream",
     "text": [
      "Insert start date: 2024-01-01\n"
     ]
    }
   ],
   "source": [
    "end = dt.datetime.now()\n",
    "start = str(input(\"Insert start date:\"))\n",
    "yf.pdr_override()\n",
    "\n",
    "stockList = [\"BTC-USD\", \"ETH-USD\", \"LINK-USD\", \"USDT-USD\"]\n",
    "position = ['AA2', 'AA17', 'AA32', 'AA47']\n",
    "colors = ['#4299f5','#5d42f5','#ce42f5','#f5425d']"
   ]
  },
  {
   "cell_type": "code",
   "execution_count": 33,
   "id": "43a6c3a3-06ed-4ca9-a8c4-8cb06840df1e",
   "metadata": {},
   "outputs": [
    {
     "name": "stderr",
     "output_type": "stream",
     "text": [
      "[*********************100%%**********************]  4 of 4 completed\n"
     ]
    }
   ],
   "source": [
    "stock = pdr.get_data_yahoo(stockList, start, end)"
   ]
  },
  {
   "cell_type": "code",
   "execution_count": 35,
   "id": "76453456-7687-4d20-9afc-db86b2671700",
   "metadata": {},
   "outputs": [],
   "source": [
    "df = pd.DataFrame(stock)\n",
    "writer = pd.ExcelWriter('raports/crypto_raport.xlsx', engine='xlsxwriter')\n",
    "df.to_excel(writer, sheet_name = 'Sheet1')\n",
    "\n",
    "workbook = writer.book\n",
    "worksheet = writer.sheets['Sheet1']\n",
    "\n",
    "x = 0\n",
    "y = 1\n",
    "i = 0\n",
    "\n",
    "for i in range(len(stockList)):\n",
    "    \n",
    "    chart = workbook.add_chart({'type':'line'})\n",
    "    \n",
    "    chart.add_series({\n",
    "        'name':'Price',\n",
    "        'categories': ['Sheet1',3,x,len(df),x],\n",
    "        'values': ['Sheet1',1,y,len(df),y],\n",
    "        'line': {'color': colors[i]},\n",
    "    })\n",
    "    \n",
    "    chart.set_title({'name':stockList[i]})\n",
    "    chart.set_x_axis({'name':'Year'})\n",
    "    chart.set_y_axis({'name':'USD$'})\n",
    "    \n",
    "    worksheet.insert_chart(position[i], chart)\n",
    "    y = y+1\n",
    "    i = i+1\n",
    "    \n",
    "writer.close()\n",
    "os.startfile('raports\\crypto_raport.xlsx')"
   ]
  }
 ],
 "metadata": {
  "kernelspec": {
   "display_name": "Python 3 (ipykernel)",
   "language": "python",
   "name": "python3"
  },
  "language_info": {
   "codemirror_mode": {
    "name": "ipython",
    "version": 3
   },
   "file_extension": ".py",
   "mimetype": "text/x-python",
   "name": "python",
   "nbconvert_exporter": "python",
   "pygments_lexer": "ipython3",
   "version": "3.10.1"
  }
 },
 "nbformat": 4,
 "nbformat_minor": 5
}
